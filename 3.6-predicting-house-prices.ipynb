{
 "cells": [
  {
   "cell_type": "code",
   "execution_count": 1,
   "metadata": {},
   "outputs": [
    {
     "name": "stderr",
     "output_type": "stream",
     "text": [
      "C:\\Users\\changgoo.kang\\AppData\\Local\\Continuum\\anaconda3\\lib\\site-packages\\h5py\\__init__.py:34: FutureWarning: Conversion of the second argument of issubdtype from `float` to `np.floating` is deprecated. In future, it will be treated as `np.float64 == np.dtype(float).type`.\n",
      "  from ._conv import register_converters as _register_converters\n",
      "Using TensorFlow backend.\n"
     ]
    },
    {
     "data": {
      "text/plain": [
       "'2.2.4'"
      ]
     },
     "execution_count": 1,
     "metadata": {},
     "output_type": "execute_result"
    }
   ],
   "source": [
    "import keras\n",
    "keras.__version__"
   ]
  },
  {
   "cell_type": "markdown",
   "metadata": {},
   "source": [
    "# 주택 가격 예측: 회귀 문제\n",
    "\n",
    "이 노트북은 [케라스 창시자에게 배우는 딥러닝](https://tensorflow.blog/케라스-창시자에게-배우는-딥러닝/) 책의 3장 6절의 코드 예제입니다. 책에는 더 많은 내용과 그림이 있습니다. 이 노트북에는 소스 코드에 관련된 설명만 포함합니다. 이 노트북의 설명은 케라스 버전 2.2.2에 맞추어져 있습니다. 케라스 최신 버전이 릴리스되면 노트북을 다시 테스트하기 때문에 설명과 코드의 결과가 조금 다를 수 있습니다.\n",
    "\n",
    "----\n",
    "\n",
    "앞의 두 예제는 분류 문제입니다. 입력 데이터 포인트의 개별적인 레이블 하나를 예측하는 것이 목적입니다. 또 <strong>다른 종류의 머신 러닝 문제는 개별적인 레이블 대신에 연속적인 값을 예측하는 회귀(regression)</strong>입니다. 예를 들어 기상 데이터가 주어졌을 때 내일 기온을 예측하거나 소프트웨어 명세가 주어졌을 때 소프트웨어 프로젝트가 완료될 시간을 예측하는 것입니다.\n",
    "\n",
    "<strong>회귀와 로지스틱 회귀 알고리즘을 혼돈하지 마세요. 로지스틱 회귀는 회귀 알고리즘이 아니라 분류 알고리즘입니다.</strong>"
   ]
  },
  {
   "cell_type": "markdown",
   "metadata": {},
   "source": [
    "## 보스턴 주택 가격 데이터셋\n",
    "\n",
    "1970년 중반 보스턴 외곽 지역의 범죄율, 지방세율 등의 데이터가 주어졌을 때 주택 가격의 중간 값을 예측해 보겠습니다.\n",
    "\n",
    "여기서 사용할 데이터셋은 이전 두 개의 예제와 다릅니다. 데이터 포인트가 506개로 비교적 개수가 적고 404개는 훈련 샘플로 102개는 테스트 샘플로 나누어져 있습니다. 입력 데이터에 있는 각 특성(예를 들어 범죄율)은 스케일이 서로 다릅니다. 어떤 값은 0과 1 사이의 비율을 나타내고 어떤 것은 1과 12 사이의 값을 가지거나 1과 100 사이의 값을 가집니다.\n",
    "\n",
    "데이터를 살펴보겠습니다:"
   ]
  },
  {
   "cell_type": "code",
   "execution_count": 2,
   "metadata": {
    "collapsed": true
   },
   "outputs": [],
   "source": [
    "from keras.datasets import boston_housing\n",
    "\n",
    "(train_data, train_targets), (test_data, test_targets) =  boston_housing.load_data()"
   ]
  },
  {
   "cell_type": "code",
   "execution_count": 3,
   "metadata": {
    "scrolled": true
   },
   "outputs": [
    {
     "data": {
      "text/plain": [
       "13"
      ]
     },
     "execution_count": 3,
     "metadata": {},
     "output_type": "execute_result"
    }
   ],
   "source": [
    "train_data.shape[1]"
   ]
  },
  {
   "cell_type": "code",
   "execution_count": 4,
   "metadata": {},
   "outputs": [
    {
     "data": {
      "text/plain": [
       "2"
      ]
     },
     "execution_count": 4,
     "metadata": {},
     "output_type": "execute_result"
    }
   ],
   "source": [
    "train_data.ndim"
   ]
  },
  {
   "cell_type": "code",
   "execution_count": 5,
   "metadata": {},
   "outputs": [
    {
     "data": {
      "text/plain": [
       "(102, 13)"
      ]
     },
     "execution_count": 5,
     "metadata": {},
     "output_type": "execute_result"
    }
   ],
   "source": [
    "test_data.shape"
   ]
  },
  {
   "cell_type": "markdown",
   "metadata": {},
   "source": [
    "여기서 볼 수 있듯이 404개의 훈련 샘플과 102개의 테스트 샘플이 있고 모두 13개의 수치 특성을 가지고 있습니다. <strong>13개의 특성</strong>은 다음과 같습니다:\n",
    "\n",
    "1. Per capita crime rate.\n",
    "2. Proportion of residential land zoned for lots over 25,000 square feet.\n",
    "3. Proportion of non-retail business acres per town.\n",
    "4. Charles River dummy variable (= 1 if tract bounds river; 0 otherwise).\n",
    "5. Nitric oxides concentration (parts per 10 million).\n",
    "6. Average number of rooms per dwelling.\n",
    "7. Proportion of owner-occupied units built prior to 1940.\n",
    "8. Weighted distances to five Boston employment centres.\n",
    "9. Index of accessibility to radial highways.\n",
    "10. Full-value property-tax rate per $10,000.\n",
    "11. Pupil-teacher ratio by town.\n",
    "12. 1000 * (Bk - 0.63) ** 2 where Bk is the proportion of Black people by town.\n",
    "13. % lower status of the population.\n",
    "\n",
    "타깃은 주택의 중간 가격으로 천달러 단위입니다:"
   ]
  },
  {
   "cell_type": "code",
   "execution_count": 6,
   "metadata": {
    "scrolled": true
   },
   "outputs": [
    {
     "data": {
      "text/plain": [
       "array([  1.23247,   0.     ,   8.14   ,   0.     ,   0.538  ,   6.142  ,\n",
       "        91.7    ,   3.9769 ,   4.     , 307.     ,  21.     , 396.9    ,\n",
       "        18.72   ])"
      ]
     },
     "execution_count": 6,
     "metadata": {},
     "output_type": "execute_result"
    }
   ],
   "source": [
    "train_data[0] #첫번째 vector"
   ]
  },
  {
   "cell_type": "code",
   "execution_count": 7,
   "metadata": {
    "scrolled": true
   },
   "outputs": [
    {
     "data": {
      "text/plain": [
       "15.2"
      ]
     },
     "execution_count": 7,
     "metadata": {},
     "output_type": "execute_result"
    }
   ],
   "source": [
    "train_targets[0]"
   ]
  },
  {
   "cell_type": "markdown",
   "metadata": {},
   "source": [
    "이 가격은 일반적으로 10,000달러에서 50,000달러 사이입니다. 저렴하게 느껴질텐데 1970년대 중반이라는 걸 기억하세요. 아직 인플레이션에 영향을 받지 않은 가격입니다."
   ]
  },
  {
   "cell_type": "markdown",
   "metadata": {},
   "source": [
    "## 데이터 준비\n",
    "\n",
    "<strong>상이한 스케일을 가진 값을 신경망에 주입하면 문제</strong>가 됩니다. 네트워크가 이런 다양한 데이터에 자동으로 맞추려고 할 수 있지만 이는 확실히 학습을 더 어렵게 만듭니다. 이런 데이터를 다룰 때 대표적인 방법은 <strong>특성별로 정규화를 하는 것</strong>입니다. 입력 데이터에 있는 <strong>각 특성(입력 데이터 행렬의 열)에 대해서 특성의 평균을 빼고 표준 편차로 나눕니다.</strong> 특성의 중앙이 0 근처에 맞춰지고 표준 편차가 1이 됩니다. 넘파이를 사용하면 간단하게 할 수 있습니다:"
   ]
  },
  {
   "cell_type": "code",
   "execution_count": 8,
   "metadata": {
    "collapsed": true
   },
   "outputs": [],
   "source": [
    "mean = train_data.mean(axis=0) #열의 평균\n",
    "train_data -= mean # 원소값 - 평균\n",
    "std = train_data.std(axis=0) # 열의 표준편차\n",
    "train_data /= std # 원소 / 표준편차\n",
    "\n",
    "test_data -= mean # train_data의 평군\n",
    "test_data /= std # train_data의 표준 편차"
   ]
  },
  {
   "cell_type": "code",
   "execution_count": 10,
   "metadata": {},
   "outputs": [
    {
     "name": "stdout",
     "output_type": "stream",
     "text": [
      "3.7451105693069318\n",
      "9.229290727197059\n",
      "-0.27224633436918744\n",
      "-0.27224633436918744\n"
     ]
    }
   ],
   "source": [
    "#표준편차는 평균으로 부터 원래 데이타에 대한 오차범위의 근사값이다.\n",
    "#출처: https://bcho.tistory.com/972 [조대협의 블로그]\n",
    "print(mean[0]) \n",
    "print(std[0])\n",
    "print(train_data[0, 0])\n",
    "#특성의 평균을 빼고 표준 편차로 나눕니다.\n",
    "print((1.23247 - 3.7451105693069318) / 9.229290727197059)"
   ]
  },
  {
   "cell_type": "code",
   "execution_count": 11,
   "metadata": {},
   "outputs": [
    {
     "name": "stdout",
     "output_type": "stream",
     "text": [
      "4.0\n",
      "4\n"
     ]
    }
   ],
   "source": [
    "import math as math\n",
    "a = -2\n",
    "n = 2\n",
    "print(math.pow(a, n))\n",
    "print(a ** n)"
   ]
  },
  {
   "cell_type": "code",
   "execution_count": 9,
   "metadata": {},
   "outputs": [
    {
     "data": {
      "text/plain": [
       "13"
      ]
     },
     "execution_count": 9,
     "metadata": {},
     "output_type": "execute_result"
    }
   ],
   "source": [
    "train_data.shape[1]"
   ]
  },
  {
   "cell_type": "markdown",
   "metadata": {},
   "source": [
    "<strong>테스트 데이터를 정규화할 때 사용한 값이 훈련 데이터에서 계산한 값임을 주목하세요.</strong> 머신 러닝 작업 과정에서 절대로 테스트 데이터에서 계산한 어떤 값도 사용해서는 안 됩니다. 데이터 정규화처럼 간단한 작업조차도 그렇습니다."
   ]
  },
  {
   "cell_type": "markdown",
   "metadata": {},
   "source": [
    "## 모델 구성\n",
    "\n",
    "샘플의 개수가 적기 때문에 64개의 유닛을 가진 두 개의 은닉층으로 작은 네트워크를 구성하여 사용하겠습니다. <strong>일반적으로 훈련 데이터의 개수가 적을수록 과대적합이 더 쉽게 일어나므로 작은 모델을 사용하는 것이 과대적합을 피하는 한 방법입니다.</strong>"
   ]
  },
  {
   "cell_type": "code",
   "execution_count": 29,
   "metadata": {
    "collapsed": true
   },
   "outputs": [],
   "source": [
    "from keras import models\n",
    "from keras import layers\n",
    "\n",
    "def build_model():\n",
    "    # 동일한 모델을 여러 번 생성할 것이므로 함수를 만들어 사용합니다\n",
    "    model = models.Sequential()\n",
    "    model.add(layers.Dense(64, activation='relu',\n",
    "                           input_shape=(train_data.shape[1],))) # 1d tensor(n,) (13,)\n",
    "    model.add(layers.Dense(64, activation='relu'))\n",
    "    model.add(layers.Dense(1))\n",
    "    model.compile(optimizer='rmsprop', loss='mse', metrics=['mae'])\n",
    "    return model"
   ]
  },
  {
   "cell_type": "markdown",
   "metadata": {},
   "source": [
    "이 네트워크의 <strong>마지막 층은 하나의 유닛을 가지고 있고 활성화 함수가 없습니다(선형 층이라고 합니다). 이것이 전형적인 스칼라 회귀(하나의 연속적인 값을 예측하는 회귀)를 위한 구성입니다.</strong> 활성화 함수를 적용하면 출력 값의 범위를 제한하게 됩니다. 예를 들어 마지막 층에 `sigmoid` 활성화 함수를 적용하면 네트워크가 0과 1 사이의 값을 예측하도록 학습될 것입니다. 여기서는 마지막 층이 순수한 선형이므로 네트워크가 어떤 범위의 값이라도 예측하도록 자유롭게 학습됩니다.\n",
    "\n",
    "이 모델은 `mse` 손실 함수를 사용하여 컴파일합니다. 이 함수는 평균 제곱 오차(mean squared error)의 약자로 <strong>예측과 타깃 사이 거리의 제곱입니다. 회귀 문제에서 널리 사용되는 손실 함수입니다.</strong>\n",
    "\n",
    "훈련하는 동안 모니터링을 위해 새로운 지표인 평균 절대 오차를 측정합니다. 이는 예측과 타깃 사이 거리의 절댓값입니다. 예를 들어 이 예제에서 MAE가 0.5이면 예측이 평균적으로 $500 정도 차이가 난다는 뜻입니다."
   ]
  },
  {
   "cell_type": "markdown",
   "metadata": {},
   "source": [
    "## K-겹 검증을 사용한 훈련 검증\n",
    "\n",
    "(훈련에 사용할 에포크의 수 같은) 매개변수들을 조정하면서 모델을 평가하기 위해 이전 예제에서 했던 것처럼 데이터를 훈련 세트와 검증 세트로 나눕니다. 데이터 포인트가 많지 않기 때문에 검증 세트도 매우 작아집니다(약 100개의 샘플). 결국 검증 세트와 훈련 세트로 어떤 데이터 포인트가 선택됐는지에 따라 검증 점수가 크게 달라집니다. 검증 세트의 분할에 대한 검증 점수의 분산이 높습니다. 이렇게 되면 신뢰있는 모델 평가를 신뢰있게 할 수 없습니다.\n",
    "\n",
    "이런 상황에서 가장 좋은 방법은 K-겹 교차검증을 사용하는 것입니다. 데이터를 K개의 분할(즉, 폴드)로 나누고(일반적으로 K = 4 또는 5), K개의 모델을 각각 만들어 K - 1개의 분할에서 훈련하고 나머지 분할에서 평가하는 방법입니다. 모델의 검증 점수는 K 개의 검증 점수의 평균이 됩니다."
   ]
  },
  {
   "cell_type": "markdown",
   "metadata": {},
   "source": [
    "코드로 보면 이해하기 쉽습니다:"
   ]
  },
  {
   "cell_type": "code",
   "execution_count": 11,
   "metadata": {
    "collapsed": true
   },
   "outputs": [],
   "source": [
    "import numpy as np\n"
   ]
  },
  {
   "cell_type": "code",
   "execution_count": 12,
   "metadata": {
    "scrolled": true
   },
   "outputs": [
    {
     "name": "stdout",
     "output_type": "stream",
     "text": [
      "101\n",
      "404\n"
     ]
    }
   ],
   "source": [
    "k = 4\n",
    "num_val_samples = len(train_data) // k\n",
    "print (num_val_samples)\n",
    "print (len(train_data))"
   ]
  },
  {
   "cell_type": "code",
   "execution_count": 13,
   "metadata": {
    "scrolled": true
   },
   "outputs": [
    {
     "name": "stdout",
     "output_type": "stream",
     "text": [
      "처리중인 폴드 # 0\n",
      "101/101 [==============================] - 0s 267us/step\n",
      "처리중인 폴드 # 1\n",
      "101/101 [==============================] - 0s 309us/step\n",
      "처리중인 폴드 # 2\n",
      "101/101 [==============================] - 0s 444us/step\n",
      "처리중인 폴드 # 3\n",
      "101/101 [==============================] - 0s 464us/step\n"
     ]
    }
   ],
   "source": [
    "import numpy as np\n",
    "\n",
    "k = 4\n",
    "num_val_samples = len(train_data) // k # num_val_samples = 101\n",
    "num_epochs = 100\n",
    "all_scores = []\n",
    "for i in range(k):\n",
    "    print('처리중인 폴드 #', i)\n",
    "    \n",
    "    ### 검증데이터 부분을 선택합니다.\n",
    "    # 검증 입력 및 타겟 데이터 준비: k번째 분할 \n",
    "    # i=0 val_data[0:101]  i=1 val_data[101:202]  i=2 val_data[202:303] i=3 val_data[303:404] \n",
    "    val_data = train_data[i * num_val_samples: (i + 1) * num_val_samples]\n",
    "    val_targets = train_targets[i * num_val_samples: (i + 1) * num_val_samples]\n",
    "    \n",
    "    #### 남은 데이터를 훈련데이터로 사용합니다. \n",
    "    # 훈련 입력 및 타겟 데이터 준비: 다른 분할 전체\n",
    "    #### np.concatenate 두 리스트를 더하는 것이 아니고 \"연결\" 한다. \n",
    "    # i=0 train_data[101:]  i=1 train_data[:101][202:]  i=2 train_data[:202][303:] i=3 train_data[303:][404:]\n",
    "    partial_train_data = np.concatenate(\n",
    "        [train_data[:i * num_val_samples],\n",
    "         train_data[(i + 1) * num_val_samples:]],\n",
    "        axis=0) # Y축 (세로 방향)으로 설정한다.\n",
    "    \n",
    "    partial_train_targets = np.concatenate(\n",
    "        [train_targets[:i * num_val_samples],\n",
    "         train_targets[(i + 1) * num_val_samples:]],\n",
    "        axis=0)\n",
    "    \n",
    "    ### 훈련되지 않은 새로운 모델을 만듭니다. \n",
    "    # 케라스 모델 구성(컴파일 포함)\n",
    "    model = build_model() \n",
    "    # 모델 훈련\n",
    "    model.fit(partial_train_data, partial_train_targets,\n",
    "              epochs=num_epochs, batch_size=1, verbose=0) #(verbose=0 이므로 훈련 과정이 출력되지 않습니다)\n",
    "    # 검증 세트로 모델 평가\n",
    "    val_mse, val_mae = model.evaluate(val_data, val_targets) \n",
    "    all_scores.append(val_mae)            #### MAE 검증 점수를 저장  "
   ]
  },
  {
   "cell_type": "code",
   "execution_count": 14,
   "metadata": {
    "scrolled": false
   },
   "outputs": [
    {
     "data": {
      "text/plain": [
       "[2.056036148921098, 2.253993360122832, 2.7952889074193368, 2.44870669180804]"
      ]
     },
     "execution_count": 14,
     "metadata": {},
     "output_type": "execute_result"
    }
   ],
   "source": [
    "all_scores  ##### 폴드 별 MAE 값"
   ]
  },
  {
   "cell_type": "code",
   "execution_count": 15,
   "metadata": {},
   "outputs": [
    {
     "data": {
      "text/plain": [
       "2.3885062770678265"
      ]
     },
     "execution_count": 15,
     "metadata": {},
     "output_type": "execute_result"
    }
   ],
   "source": [
    "np.mean(all_scores) #### MAE 평균 값 "
   ]
  },
  {
   "cell_type": "markdown",
   "metadata": {},
   "source": [
    "검증 세트가 다르므로 확실히 검증 점수가 2.0에서 2.8까지 변화가 큽니다. 평균값(2.4)이 각각의 점수보다 훨씬 신뢰할 만한 점수입니다. 이것이 K-겹 교차 검증의 핵심입니다. 이 예에서는 평균적으로 3,000달러 정도 차이가 납니다. 주택 가격의 범위가 10,000달러에서 50,000달러 사이인 것을 감안하면 비교적 큰 값입니다.\n",
    "\n",
    "신경망을 조금 더 오래 500 에포크 동안 훈련해 보죠. 각 에포크마다 모델이 얼마나 개선되는지 기록하기 위해 훈련 루프를 조금 수정해서 에포크의 검증 점수를 로그에 저장하겠습니다:"
   ]
  },
  {
   "cell_type": "code",
   "execution_count": 16,
   "metadata": {
    "collapsed": true
   },
   "outputs": [],
   "source": [
    "from keras import backend as K\n",
    "\n",
    "# 메모리 해제\n",
    "K.clear_session()"
   ]
  },
  {
   "cell_type": "code",
   "execution_count": 17,
   "metadata": {
    "scrolled": true
   },
   "outputs": [
    {
     "name": "stdout",
     "output_type": "stream",
     "text": [
      "처리중인 폴드 # 0\n",
      "처리중인 폴드 # 1\n",
      "처리중인 폴드 # 2\n",
      "처리중인 폴드 # 3\n"
     ]
    }
   ],
   "source": [
    "num_epochs = 500\n",
    "all_mae_histories = []\n",
    "for i in range(k):\n",
    "    print('처리중인 폴드 #', i)\n",
    "    # 검증 데이터 준비: k번째 분할                  \n",
    "    val_data = train_data[i * num_val_samples: (i + 1) * num_val_samples] \n",
    "    val_targets = train_targets[i * num_val_samples: (i + 1) * num_val_samples]\n",
    "\n",
    "    # 훈련 데이터 준비: 다른 분할 전체      \n",
    "    partial_train_data = np.concatenate(\n",
    "        [train_data[:i * num_val_samples],\n",
    "         train_data[(i + 1) * num_val_samples:]],\n",
    "        axis=0)\n",
    "    partial_train_targets = np.concatenate(\n",
    "        [train_targets[:i * num_val_samples],\n",
    "         train_targets[(i + 1) * num_val_samples:]],\n",
    "        axis=0)\n",
    "\n",
    "    # 케라스 모델 구성(컴파일 포함)\n",
    "    model = build_model()                                   \n",
    "    # 모델 훈련(verbose=0 이므로 훈련 과정이 출력되지 않습니다)\n",
    "    history = model.fit(partial_train_data, partial_train_targets,\n",
    "                        validation_data=(val_data, val_targets),\n",
    "                        epochs=num_epochs, batch_size=1, verbose=0)\n",
    "    mae_history = history.history['val_mean_absolute_error']\n",
    "    all_mae_histories.append(mae_history)"
   ]
  },
  {
   "cell_type": "markdown",
   "metadata": {},
   "source": [
    "그다음 모든 폴드에 대해 에포크의 MAE 점수의 평균을 계산합니다:"
   ]
  },
  {
   "cell_type": "code",
   "execution_count": 18,
   "metadata": {
    "collapsed": true
   },
   "outputs": [],
   "source": [
    "average_mae_history = [\n",
    "    np.mean([x[i] for x in all_mae_histories]) for i in range(num_epochs)]"
   ]
  },
  {
   "cell_type": "markdown",
   "metadata": {},
   "source": [
    "그래프로 그려 보겠습니다:"
   ]
  },
  {
   "cell_type": "code",
   "execution_count": 22,
   "metadata": {
    "collapsed": true
   },
   "outputs": [],
   "source": [
    "import matplotlib.pyplot as plt"
   ]
  },
  {
   "cell_type": "code",
   "execution_count": 23,
   "metadata": {
    "collapsed": true
   },
   "outputs": [],
   "source": [
    "%matplotlib inline"
   ]
  },
  {
   "cell_type": "code",
   "execution_count": 21,
   "metadata": {},
   "outputs": [
    {
     "data": {
      "image/png": "[encoded data removed]",
      "text/plain": [
       "<Figure size 432x288 with 1 Axes>"
      ]
     },
     "metadata": {},
     "output_type": "display_data"
    }
   ],
   "source": [
    "plt.plot(range(1, len(average_mae_history) + 1), average_mae_history)\n",
    "plt.xlabel('Epochs')\n",
    "plt.ylabel('Validation MAE')\n",
    "plt.show()"
   ]
  },
  {
   "cell_type": "markdown",
   "metadata": {},
   "source": [
    "이 그래프는 범위가 크고 변동이 심하기 때문에 보기가 좀 어렵습니다. 다음처럼 해 보죠:\n",
    "\n",
    "* 곡선의 다른 부분과 스케일이 많이 다른 첫 10개 데이터 포인트를 제외시킵니다.\n",
    "* 부드러운 곡선을 얻기 위해 각 포인트를 이전 포인트의 지수 이동 평균으로 대체합니다."
   ]
  },
  {
   "cell_type": "code",
   "execution_count": 24,
   "metadata": {},
   "outputs": [
    {
     "data": {
      "image/png": "[encoded data removed]",
      "text/plain": [
       "<Figure size 432x288 with 1 Axes>"
      ]
     },
     "metadata": {},
     "output_type": "display_data"
    }
   ],
   "source": [
    "def smooth_curve(points, factor=0.9):\n",
    "  smoothed_points = []\n",
    "  for point in points:\n",
    "    if smoothed_points:\n",
    "      previous = smoothed_points[-1]\n",
    "      smoothed_points.append(previous * factor + point * (1 - factor))\n",
    "    else:\n",
    "      smoothed_points.append(point)\n",
    "  return smoothed_points\n",
    "\n",
    "smooth_mae_history = smooth_curve(average_mae_history[10:])\n",
    "\n",
    "plt.plot(range(1, len(smooth_mae_history) + 1), smooth_mae_history)\n",
    "plt.xlabel('Epochs')\n",
    "plt.ylabel('Validation MAE')\n",
    "plt.show()"
   ]
  },
  {
   "cell_type": "markdown",
   "metadata": {},
   "source": [
    "이 그래프를 보면 검증 MAE가 80번째 에포크 이후에 줄어드는 것이 멈추었습니다. 이 지점 이후로는 과대적합이 시작됩니다.\n",
    "\n",
    "모델의 다른 매개변수에 대한 튜닝이 끝나면(에포크 수뿐만 아니라 은닉층의 크기도 조절할 수 있습니다) 모든 훈련 데이터를 사용하고 최상의 매개변수로 최종 실전에 투입될 모델을 훈련시킵니다. 그다음 테스트 데이터로 성능을 확인합니다:"
   ]
  },
  {
   "cell_type": "code",
   "execution_count": 30,
   "metadata": {},
   "outputs": [
    {
     "name": "stdout",
     "output_type": "stream",
     "text": [
      "Epoch 1/70\n",
      "404/404 [==============================] - 0s 670us/step - loss: 440.4109 - mean_absolute_error: 18.9694\n",
      "Epoch 2/70\n",
      "404/404 [==============================] - 0s 146us/step - loss: 142.0388 - mean_absolute_error: 9.5834\n",
      "Epoch 3/70\n",
      "404/404 [==============================] - 0s 148us/step - loss: 41.6221 - mean_absolute_error: 4.6741\n",
      "Epoch 4/70\n",
      "404/404 [==============================] - 0s 115us/step - loss: 27.2223 - mean_absolute_error: 3.6684\n",
      "Epoch 5/70\n",
      "404/404 [==============================] - 0s 173us/step - loss: 22.7642 - mean_absolute_error: 3.3052\n",
      "Epoch 6/70\n",
      "404/404 [==============================] - 0s 114us/step - loss: 19.7913 - mean_absolute_error: 3.1269\n",
      "Epoch 7/70\n",
      "404/404 [==============================] - 0s 190us/step - loss: 17.3279 - mean_absolute_error: 2.9015\n",
      "Epoch 8/70\n",
      "404/404 [==============================] - 0s 158us/step - loss: 15.8188 - mean_absolute_error: 2.7504\n",
      "Epoch 9/70\n",
      "404/404 [==============================] - 0s 159us/step - loss: 14.3729 - mean_absolute_error: 2.6217\n",
      "Epoch 10/70\n",
      "404/404 [==============================] - 0s 154us/step - loss: 13.4141 - mean_absolute_error: 2.5826\n",
      "Epoch 11/70\n",
      "404/404 [==============================] - 0s 100us/step - loss: 12.6073 - mean_absolute_error: 2.5073\n",
      "Epoch 12/70\n",
      "404/404 [==============================] - 0s 143us/step - loss: 11.8922 - mean_absolute_error: 2.4343\n",
      "Epoch 13/70\n",
      "404/404 [==============================] - 0s 158us/step - loss: 11.2013 - mean_absolute_error: 2.3217\n",
      "Epoch 14/70\n",
      "404/404 [==============================] - 0s 112us/step - loss: 10.8325 - mean_absolute_error: 2.3326\n",
      "Epoch 15/70\n",
      "404/404 [==============================] - 0s 180us/step - loss: 10.5567 - mean_absolute_error: 2.2913\n",
      "Epoch 16/70\n",
      "404/404 [==============================] - 0s 160us/step - loss: 10.4091 - mean_absolute_error: 2.2688\n",
      "Epoch 17/70\n",
      "404/404 [==============================] - 0s 148us/step - loss: 9.8832 - mean_absolute_error: 2.2158\n",
      "Epoch 18/70\n",
      "404/404 [==============================] - 0s 110us/step - loss: 9.6929 - mean_absolute_error: 2.2014\n",
      "Epoch 19/70\n",
      "404/404 [==============================] - 0s 166us/step - loss: 9.6524 - mean_absolute_error: 2.2175\n",
      "Epoch 20/70\n",
      "404/404 [==============================] - 0s 122us/step - loss: 9.2912 - mean_absolute_error: 2.1695\n",
      "Epoch 21/70\n",
      "404/404 [==============================] - 0s 156us/step - loss: 9.2030 - mean_absolute_error: 2.1133\n",
      "Epoch 22/70\n",
      "404/404 [==============================] - 0s 153us/step - loss: 9.1585 - mean_absolute_error: 2.1264\n",
      "Epoch 23/70\n",
      "404/404 [==============================] - 0s 153us/step - loss: 8.6313 - mean_absolute_error: 2.0772\n",
      "Epoch 24/70\n",
      "404/404 [==============================] - 0s 152us/step - loss: 8.8737 - mean_absolute_error: 2.0869\n",
      "Epoch 25/70\n",
      "404/404 [==============================] - 0s 143us/step - loss: 8.7611 - mean_absolute_error: 2.0879\n",
      "Epoch 26/70\n",
      "404/404 [==============================] - 0s 148us/step - loss: 8.5228 - mean_absolute_error: 2.0766\n",
      "Epoch 27/70\n",
      "404/404 [==============================] - 0s 145us/step - loss: 8.3980 - mean_absolute_error: 2.0283\n",
      "Epoch 28/70\n",
      "404/404 [==============================] - 0s 128us/step - loss: 8.4766 - mean_absolute_error: 2.0658\n",
      "Epoch 29/70\n",
      "404/404 [==============================] - 0s 148us/step - loss: 8.2721 - mean_absolute_error: 2.0231\n",
      "Epoch 30/70\n",
      "404/404 [==============================] - 0s 131us/step - loss: 8.1691 - mean_absolute_error: 1.9943\n",
      "Epoch 31/70\n",
      "404/404 [==============================] - 0s 143us/step - loss: 7.9158 - mean_absolute_error: 1.9984\n",
      "Epoch 32/70\n",
      "404/404 [==============================] - 0s 146us/step - loss: 8.1286 - mean_absolute_error: 2.0015\n",
      "Epoch 33/70\n",
      "404/404 [==============================] - 0s 156us/step - loss: 8.0972 - mean_absolute_error: 1.9852\n",
      "Epoch 34/70\n",
      "404/404 [==============================] - 0s 136us/step - loss: 7.7761 - mean_absolute_error: 1.9515\n",
      "Epoch 35/70\n",
      "404/404 [==============================] - 0s 131us/step - loss: 7.6006 - mean_absolute_error: 1.9583\n",
      "Epoch 36/70\n",
      "404/404 [==============================] - 0s 151us/step - loss: 7.9026 - mean_absolute_error: 1.9440\n",
      "Epoch 37/70\n",
      "404/404 [==============================] - 0s 122us/step - loss: 7.7206 - mean_absolute_error: 1.9303\n",
      "Epoch 38/70\n",
      "404/404 [==============================] - 0s 167us/step - loss: 7.7327 - mean_absolute_error: 1.9177\n",
      "Epoch 39/70\n",
      "404/404 [==============================] - 0s 156us/step - loss: 7.6121 - mean_absolute_error: 1.9493\n",
      "Epoch 40/70\n",
      "404/404 [==============================] - 0s 153us/step - loss: 7.6055 - mean_absolute_error: 1.9384\n",
      "Epoch 41/70\n",
      "404/404 [==============================] - 0s 156us/step - loss: 7.5563 - mean_absolute_error: 1.8800\n",
      "Epoch 42/70\n",
      "404/404 [==============================] - 0s 146us/step - loss: 7.2319 - mean_absolute_error: 1.8871\n",
      "Epoch 43/70\n",
      "404/404 [==============================] - 0s 128us/step - loss: 7.3008 - mean_absolute_error: 1.9132\n",
      "Epoch 44/70\n",
      "404/404 [==============================] - 0s 158us/step - loss: 7.3464 - mean_absolute_error: 1.8795\n",
      "Epoch 45/70\n",
      "404/404 [==============================] - 0s 143us/step - loss: 7.1704 - mean_absolute_error: 1.8693\n",
      "Epoch 46/70\n",
      "404/404 [==============================] - 0s 151us/step - loss: 7.0042 - mean_absolute_error: 1.8708\n",
      "Epoch 47/70\n",
      "404/404 [==============================] - 0s 153us/step - loss: 6.9887 - mean_absolute_error: 1.8772\n",
      "Epoch 48/70\n",
      "404/404 [==============================] - 0s 148us/step - loss: 6.8082 - mean_absolute_error: 1.8403\n",
      "Epoch 49/70\n",
      "404/404 [==============================] - 0s 151us/step - loss: 7.0079 - mean_absolute_error: 1.8585\n",
      "Epoch 50/70\n",
      "404/404 [==============================] - 0s 158us/step - loss: 6.9570 - mean_absolute_error: 1.8458\n",
      "Epoch 51/70\n",
      "404/404 [==============================] - 0s 156us/step - loss: 6.7249 - mean_absolute_error: 1.8176\n",
      "Epoch 52/70\n",
      "404/404 [==============================] - 0s 156us/step - loss: 7.0399 - mean_absolute_error: 1.8266\n",
      "Epoch 53/70\n",
      "404/404 [==============================] - 0s 151us/step - loss: 6.5424 - mean_absolute_error: 1.8094\n",
      "Epoch 54/70\n",
      "404/404 [==============================] - 0s 143us/step - loss: 6.7926 - mean_absolute_error: 1.8097\n",
      "Epoch 55/70\n",
      "404/404 [==============================] - 0s 168us/step - loss: 6.4832 - mean_absolute_error: 1.7885\n",
      "Epoch 56/70\n",
      "404/404 [==============================] - 0s 153us/step - loss: 6.6359 - mean_absolute_error: 1.7875\n",
      "Epoch 57/70\n",
      "404/404 [==============================] - 0s 165us/step - loss: 6.5442 - mean_absolute_error: 1.7840\n",
      "Epoch 58/70\n",
      "404/404 [==============================] - 0s 175us/step - loss: 6.5895 - mean_absolute_error: 1.7991\n",
      "Epoch 59/70\n",
      "404/404 [==============================] - 0s 195us/step - loss: 6.6188 - mean_absolute_error: 1.8116\n",
      "Epoch 60/70\n",
      "404/404 [==============================] - 0s 185us/step - loss: 6.5312 - mean_absolute_error: 1.8014\n",
      "Epoch 61/70\n",
      "404/404 [==============================] - 0s 170us/step - loss: 6.4468 - mean_absolute_error: 1.7888\n",
      "Epoch 62/70\n",
      "404/404 [==============================] - 0s 168us/step - loss: 6.4778 - mean_absolute_error: 1.7630\n",
      "Epoch 63/70\n",
      "404/404 [==============================] - 0s 158us/step - loss: 6.3779 - mean_absolute_error: 1.7745\n",
      "Epoch 64/70\n",
      "404/404 [==============================] - 0s 153us/step - loss: 6.3331 - mean_absolute_error: 1.7644\n",
      "Epoch 65/70\n",
      "404/404 [==============================] - 0s 165us/step - loss: 6.2577 - mean_absolute_error: 1.7459\n",
      "Epoch 66/70\n",
      "404/404 [==============================] - 0s 151us/step - loss: 6.1346 - mean_absolute_error: 1.7378\n",
      "Epoch 67/70\n",
      "404/404 [==============================] - 0s 156us/step - loss: 6.1676 - mean_absolute_error: 1.7482\n",
      "Epoch 68/70\n",
      "404/404 [==============================] - 0s 163us/step - loss: 6.1427 - mean_absolute_error: 1.7454\n",
      "Epoch 69/70\n",
      "404/404 [==============================] - 0s 160us/step - loss: 6.1013 - mean_absolute_error: 1.7359\n",
      "Epoch 70/70\n",
      "404/404 [==============================] - 0s 156us/step - loss: 5.9262 - mean_absolute_error: 1.6846\n",
      "102/102 [==============================] - 0s 846us/step\n"
     ]
    }
   ],
   "source": [
    "#### \"전체 훈련데이터\"로 최종 모델을 훈련합니다. 그리고 \"테스트 데이터\"로 평가  \n",
    "# 새롭게 컴파인된 모델을 얻습니다\n",
    "model = build_model()\n",
    "# 전체 데이터로 훈련시킵니다\n",
    "model.fit(train_data, train_targets,\n",
    "          epochs=70, batch_size=8, verbose=0) #,verbose=0)\n",
    "test_mse_score, test_mae_score = model.evaluate(test_data, test_targets)"
   ]
  },
  {
   "cell_type": "code",
   "execution_count": 32,
   "metadata": {},
   "outputs": [
    {
     "data": {
      "text/plain": [
       "2.583618827894622"
      ]
     },
     "execution_count": 32,
     "metadata": {},
     "output_type": "execute_result"
    }
   ],
   "source": [
    "test_mae_score"
   ]
  },
  {
   "cell_type": "markdown",
   "metadata": {},
   "source": [
    "아직 2,675달러 정도 차이가 나네요."
   ]
  },
  {
   "cell_type": "markdown",
   "metadata": {},
   "source": [
    "## 정리\n",
    "\n",
    "다음은 이 예제에서 배운 것들입니다.\n",
    "\n",
    "* 회귀는 분류에서 사용했던 것과는 다른 손실 함수를 사용합니다. 평균 제곱 오차(MSE)는 회귀에서 자주 사용되는 손실 함수입니다.\n",
    "* 비슷하게 회귀에서 사용되는 평가 지표는 분류와 다릅니다. 당연히 정확도 개념은 회귀에 적용되지 않습니다. 일반적인 회귀 지표는 평균 절대 오차(MAE)입니다.\n",
    "* 입력 데이터의 특성이 서로 다른 범위를 가지면 전처리 단계에서 각 특성을 개별적으로 스케일 조정해야 합니다.\n",
    "* 가용한 데이터가 적다면 K-겹 검증을 사용하는 것이 신뢰할 수 있는 모델 신뢰있게 평가 방법입니다.\n",
    "* 가용한 훈련 데이터가 적다면 과대적합을 피하기 위해 은닉층의 수를 줄인 모델이 좋습니다(일반적으로 하나 또는 두 개).\n",
    "\n",
    "세 개의 예제 시리즈를 마칩니다. 이제 벡터 데이터 입력을 받는 일반적인 문제를 다룰 수 있습니다:\n",
    "\n",
    "* 이진 분류\n",
    "* 단일 레이블 다중 분류\n",
    "* 스칼라 회귀\n",
    "\n",
    "다음 장에서 이 예제들에서 보았던 데이터 전처리, 모델 평가, 과대접과 같은 개념에 대해 조금 더 이론적인 설명을 보완하겠습니다."
   ]
  }
 ],
 "metadata": {
  "kernelspec": {
   "display_name": "Python 3",
   "language": "python",
   "name": "python3"
  },
  "language_info": {
   "codemirror_mode": {
    "name": "ipython",
    "version": 3
   },
   "file_extension": ".py",
   "mimetype": "text/x-python",
   "name": "python",
   "nbconvert_exporter": "python",
   "pygments_lexer": "ipython3",
   "version": "3.6.2"
  }
 },
 "nbformat": 4,
 "nbformat_minor": 2
}
