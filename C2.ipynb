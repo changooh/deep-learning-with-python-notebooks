{
 "cells": [
  {
   "cell_type": "code",
   "execution_count": 2,
   "metadata": {},
   "outputs": [
    {
     "ename": "NameError",
     "evalue": "name 'hardshell_jacket_tag' is not defined",
     "output_type": "error",
     "traceback": [
      "\u001b[1;31m---------------------------------------------------------------------------\u001b[0m",
      "\u001b[1;31mNameError\u001b[0m                                 Traceback (most recent call last)",
      "\u001b[1;32m<ipython-input-2-de0cf3d64f29>\u001b[0m in \u001b[0;36m<module>\u001b[1;34m()\u001b[0m\n\u001b[0;32m     23\u001b[0m \u001b[0mimg1\u001b[0m \u001b[1;33m=\u001b[0m \u001b[1;34m'C://Users/changgoo.kang/resize_images/hardshell_jackets/101634.JPEG'\u001b[0m \u001b[1;31m#os.path.join(root,hardshell_dir,img1)\u001b[0m\u001b[1;33m\u001b[0m\u001b[0m\n\u001b[0;32m     24\u001b[0m \u001b[1;32mwith\u001b[0m \u001b[0mopen\u001b[0m\u001b[1;33m(\u001b[0m\u001b[0mimg1\u001b[0m\u001b[1;33m,\u001b[0m\u001b[1;34m'rb'\u001b[0m\u001b[1;33m)\u001b[0m \u001b[1;32mas\u001b[0m \u001b[0mf\u001b[0m\u001b[1;33m:\u001b[0m\u001b[1;33m\u001b[0m\u001b[0m\n\u001b[1;32m---> 25\u001b[1;33m     \u001b[0mtrainer\u001b[0m\u001b[1;33m.\u001b[0m\u001b[0mcreate_images_from_data\u001b[0m\u001b[1;33m(\u001b[0m\u001b[0mproject\u001b[0m\u001b[1;33m.\u001b[0m\u001b[0mid\u001b[0m\u001b[1;33m,\u001b[0m \u001b[0mf\u001b[0m\u001b[1;33m.\u001b[0m\u001b[0mread\u001b[0m\u001b[1;33m(\u001b[0m\u001b[1;33m)\u001b[0m\u001b[1;33m,\u001b[0m\u001b[1;33m[\u001b[0m\u001b[0mhardshell_jacket_tag\u001b[0m\u001b[1;33m.\u001b[0m\u001b[0mid\u001b[0m\u001b[1;33m]\u001b[0m\u001b[1;33m)\u001b[0m\u001b[1;33m\u001b[0m\u001b[0m\n\u001b[0m\u001b[0;32m     26\u001b[0m \u001b[1;31m#trainer.create_images_from_files()\u001b[0m\u001b[1;33m\u001b[0m\u001b[1;33m\u001b[0m\u001b[0m\n\u001b[0;32m     27\u001b[0m \u001b[1;31m#for img1 in os.listdir(os.path.join(root,insulated_dir)):\u001b[0m\u001b[1;33m\u001b[0m\u001b[1;33m\u001b[0m\u001b[0m\n",
      "\u001b[1;31mNameError\u001b[0m: name 'hardshell_jacket_tag' is not defined"
     ]
    }
   ],
   "source": [
    "from azure.cognitiveservices.vision.customvision.training import CustomVisionTrainingClient\n",
    "from azure.cognitiveservices.vision.customvision.training.models import ImageUrlCreateEntry\n",
    "\n",
    "ENDPOINT = \"https://southcentralus.api.cognitive.microsoft.com\"\n",
    "\n",
    "# Replace with a valid key\n",
    "training_key = \"791e1322535143ee9cd521619b177aec\"\n",
    "prediction_key = \"791e1322535143ee9cd521619b177aec\"\n",
    "\n",
    "trainer = CustomVisionTrainingClient(training_key, endpoint=ENDPOINT)\n",
    "\n",
    "# Create a new project\n",
    "#print (\"Creating project...\")\n",
    "#project = trainer.create_project(\"JacketClassifier\")\n",
    "project = trainer.get_project('ea7228dd-de27-400c-8dec-c7372129cc24')\n",
    "#trainer.create_images_from_files()\n",
    "import os \n",
    "root = 'C://Users/changgoo.kang/'\n",
    "\n",
    "hardshell_dir = 'resize_images/hardshell_jackets'\n",
    "insulated_dir =  'resize_images/insulated_jackets'\n",
    "#for img1 in os.listdir(os.path.join(root,hardshell_dir)):\n",
    "img1 = 'C://Users/changgoo.kang/resize_images/hardshell_jackets/101634.JPEG' #os.path.join(root,hardshell_dir,img1)\n",
    "with open(img1,'rb') as f:\n",
    "    trainer.create_images_from_data(project.id, f.read(),[hardshell_jacket_tag.id])\n",
    "#trainer.create_images_from_files()\n",
    "#for img1 in os.listdir(os.path.join(root,insulated_dir)):\n",
    "img1 = 'C://Users/changgoo.kang/resize_images/insulated_jackets/102814.JPEG' #os.path.join(root,insulated_dir,img1)\n",
    "with open(img1,'rb') as f:\n",
    "    trainer.create_images_from_data(project.id, f.read(),[insulated_jacket_tag.id])       "
   ]
  },
  {
   "cell_type": "code",
   "execution_count": 2,
   "metadata": {
    "collapsed": true
   },
   "outputs": [],
   "source": [
    "#hardshell_jacket_tag = trainer.create_tag(project.id, \"hardshell jacket\")\n",
    "#insulated_jacket_tag = trainer.create_tag(project.id, \"insulated jacket\")"
   ]
  },
  {
   "cell_type": "code",
   "execution_count": 4,
   "metadata": {},
   "outputs": [
    {
     "name": "stdout",
     "output_type": "stream",
     "text": [
      "Creating project...\n"
     ]
    }
   ],
   "source": [
    "# coding: utf-8\n",
    "\n",
    "# In[23]:\n",
    "\n",
    "\n",
    "from azure.cognitiveservices.vision.customvision.training import CustomVisionTrainingClient\n",
    "from azure.cognitiveservices.vision.customvision.training.models import ImageUrlCreateEntry\n",
    "\n",
    "ENDPOINT = \"https://southcentralus.api.cognitive.microsoft.com\"\n",
    "\n",
    "# Replace with a valid key\n",
    "training_key = \"791e1322535143ee9cd521619b177aec\"\n",
    "\n",
    "prediction_key = \"791e1322535143ee9cd521619b177aec\"\n",
    "caf62a2517034d91940356abf13fda1e\n",
    "trainer = CustomVisionTrainingClient(training_key, endpoint=ENDPOINT)\n",
    "\n",
    "# Create a new project\n",
    "print (\"Creating project...\")\n",
    "project = trainer.create_project(\"JacketClassifier\")\n",
    "\n",
    "\n",
    "# In[24]:\n",
    "\n",
    "\n",
    "hardshell_jacket_tag = trainer.create_tag(project.id, \"hardshell jacket\")\n",
    "insulated_jacket_tag = trainer.create_tag(project.id, \"insulated jacket\")\n",
    "\n",
    "\n",
    "# In[43]:\n",
    "#trainer.create_images_from_files()\n",
    "import os \n",
    "root = r'C://Users/changgoo.kang/'\n",
    "\n",
    "hardshell_dir = r'resize_images/hardshell_jackets'\n",
    "insulated_dir = r'resize_images/insulated_jackets'\n",
    "for img1 in os.listdir(os.path.join(root,hardshell_dir)):\n",
    "    img1 = os.path.join(root,hardshell_dir,img1)\n",
    "    with open(img1,'rb') as f:\n",
    "        trainer.create_images_from_data(project.id, f.read(),[hardshell_jacket_tag.id])\n",
    "\n",
    "\n",
    "# In[44]:\n",
    "#trainer.create_images_from_files()\n",
    "for img1 in os.listdir(os.path.join(root,insulated_dir)):\n",
    "    img1 = os.path.join(root,insulated_dir,img1)\n",
    "    with open(img1,'rb') as f:\n",
    "        trainer.create_images_from_data(project.id, f.read(),[insulated_jacket_tag.id])\n",
    "\n",
    "\n",
    "\n",
    " "
   ]
  },
  {
   "cell_type": "code",
   "execution_count": 14,
   "metadata": {},
   "outputs": [
    {
     "name": "stdout",
     "output_type": "stream",
     "text": [
      "a9ba58b2-5895-4e21-afda-dd18f2158753\n"
     ]
    }
   ],
   "source": [
    "\n",
    "print(project.id)"
   ]
  },
  {
   "cell_type": "code",
   "execution_count": 5,
   "metadata": {},
   "outputs": [
    {
     "name": "stdout",
     "output_type": "stream",
     "text": [
      "Training...\n"
     ]
    },
    {
     "ename": "HttpOperationError",
     "evalue": "Operation returned an invalid status code 'Bad Request'",
     "output_type": "error",
     "traceback": [
      "\u001b[1;31m---------------------------------------------------------------------------\u001b[0m",
      "\u001b[1;31mHttpOperationError\u001b[0m                        Traceback (most recent call last)",
      "\u001b[1;32m<ipython-input-5-c527d944178a>\u001b[0m in \u001b[0;36m<module>\u001b[1;34m()\u001b[0m\n\u001b[0;32m     10\u001b[0m \u001b[0mtrainer\u001b[0m \u001b[1;33m=\u001b[0m \u001b[0mCustomVisionTrainingClient\u001b[0m\u001b[1;33m(\u001b[0m\u001b[0mtraining_key\u001b[0m\u001b[1;33m,\u001b[0m \u001b[0mendpoint\u001b[0m\u001b[1;33m=\u001b[0m\u001b[0mENDPOINT\u001b[0m\u001b[1;33m)\u001b[0m\u001b[1;33m\u001b[0m\u001b[0m\n\u001b[0;32m     11\u001b[0m \u001b[0mprojectid\u001b[0m\u001b[1;33m=\u001b[0m\u001b[1;34m\"a9ba58b2-5895-4e21-afda-dd18f2158753\"\u001b[0m\u001b[1;33m\u001b[0m\u001b[0m\n\u001b[1;32m---> 12\u001b[1;33m \u001b[0miteration\u001b[0m \u001b[1;33m=\u001b[0m \u001b[0mtrainer\u001b[0m\u001b[1;33m.\u001b[0m\u001b[0mtrain_project\u001b[0m\u001b[1;33m(\u001b[0m\u001b[0mprojectid\u001b[0m\u001b[1;33m)\u001b[0m\u001b[1;33m\u001b[0m\u001b[0m\n\u001b[0m\u001b[0;32m     13\u001b[0m \u001b[0mprint\u001b[0m\u001b[1;33m(\u001b[0m\u001b[0mprojectid\u001b[0m\u001b[1;33m,\u001b[0m \u001b[0miteration\u001b[0m\u001b[1;33m.\u001b[0m\u001b[0mid\u001b[0m\u001b[1;33m)\u001b[0m\u001b[1;33m\u001b[0m\u001b[0m\n\u001b[0;32m     14\u001b[0m \u001b[1;32mwhile\u001b[0m \u001b[1;33m(\u001b[0m\u001b[0miteration\u001b[0m\u001b[1;33m.\u001b[0m\u001b[0mstatus\u001b[0m \u001b[1;33m!=\u001b[0m \u001b[1;34m\"Completed\"\u001b[0m\u001b[1;33m)\u001b[0m\u001b[1;33m:\u001b[0m\u001b[1;33m\u001b[0m\u001b[0m\n",
      "\u001b[1;32m~\\AppData\\Local\\Continuum\\anaconda3\\lib\\site-packages\\azure\\cognitiveservices\\vision\\customvision\\training\\custom_vision_training_client.py\u001b[0m in \u001b[0;36mtrain_project\u001b[1;34m(self, project_id, custom_headers, raw, **operation_config)\u001b[0m\n\u001b[0;32m   2187\u001b[0m \u001b[1;33m\u001b[0m\u001b[0m\n\u001b[0;32m   2188\u001b[0m         \u001b[1;32mif\u001b[0m \u001b[0mresponse\u001b[0m\u001b[1;33m.\u001b[0m\u001b[0mstatus_code\u001b[0m \u001b[1;32mnot\u001b[0m \u001b[1;32min\u001b[0m \u001b[1;33m[\u001b[0m\u001b[1;36m200\u001b[0m\u001b[1;33m]\u001b[0m\u001b[1;33m:\u001b[0m\u001b[1;33m\u001b[0m\u001b[0m\n\u001b[1;32m-> 2189\u001b[1;33m             \u001b[1;32mraise\u001b[0m \u001b[0mHttpOperationError\u001b[0m\u001b[1;33m(\u001b[0m\u001b[0mself\u001b[0m\u001b[1;33m.\u001b[0m\u001b[0m_deserialize\u001b[0m\u001b[1;33m,\u001b[0m \u001b[0mresponse\u001b[0m\u001b[1;33m)\u001b[0m\u001b[1;33m\u001b[0m\u001b[0m\n\u001b[0m\u001b[0;32m   2190\u001b[0m \u001b[1;33m\u001b[0m\u001b[0m\n\u001b[0;32m   2191\u001b[0m         \u001b[0mdeserialized\u001b[0m \u001b[1;33m=\u001b[0m \u001b[1;32mNone\u001b[0m\u001b[1;33m\u001b[0m\u001b[0m\n",
      "\u001b[1;31mHttpOperationError\u001b[0m: Operation returned an invalid status code 'Bad Request'"
     ]
    }
   ],
   "source": [
    "\n",
    "from azure.cognitiveservices.vision.customvision.training import CustomVisionTrainingClient\n",
    "from azure.cognitiveservices.vision.customvision.training.models import ImageUrlCreateEntry\n",
    "import time\n",
    "print (\"Training...\")\n",
    "ENDPOINT = \"https://southcentralus.api.cognitive.microsoft.com\"\n",
    "# Replace with a valid key\n",
    "training_key = \"791e1322535143ee9cd521619b177aec\"\n",
    "prediction_key = \"caf62a2517034d91940356abf13fda1e\"\n",
    "trainer = CustomVisionTrainingClient(training_key, endpoint=ENDPOINT)\n",
    "projectid=\"a9ba58b2-5895-4e21-afda-dd18f2158753\"\n",
    "iteration = trainer.train_project(projectid)\n",
    "print(projectid, iteration.id)\n",
    "while (iteration.status != \"Completed\"):\n",
    "    iteration = trainer.get_iteration(projectid, iteration.id)\n",
    "    print (\"Training status: \" + iteration.status)\n",
    "    time.sleep(1)\n",
    "\n",
    "# The iteration is now trained. Make it the default project endpoint\n",
    "trainer.update_iteration(projectid, iteration.id, is_default=True)\n",
    "print (\"Done!\")"
   ]
  },
  {
   "cell_type": "code",
   "execution_count": null,
   "metadata": {
    "collapsed": true
   },
   "outputs": [],
   "source": []
  }
 ],
 "metadata": {
  "kernelspec": {
   "display_name": "Python 3",
   "language": "python",
   "name": "python3"
  },
  "language_info": {
   "codemirror_mode": {
    "name": "ipython",
    "version": 3
   },
   "file_extension": ".py",
   "mimetype": "text/x-python",
   "name": "python",
   "nbconvert_exporter": "python",
   "pygments_lexer": "ipython3",
   "version": "3.6.2"
  }
 },
 "nbformat": 4,
 "nbformat_minor": 2
}
