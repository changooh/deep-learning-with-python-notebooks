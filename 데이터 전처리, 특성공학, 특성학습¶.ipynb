{
 "cells": [
  {
   "cell_type": "markdown",
   "metadata": {},
   "source": [
    "## 4.3 데이터 전처리, 특성공학, 특성학습"
   ]
  },
  {
   "cell_type": "markdown",
   "metadata": {},
   "source": [
    "모델 개발에 들어가기 전 넘어야할 중요한 질문은 입력데이터와 타깃데이터를 입력하기 전에 어떻게 데이터를 준비해야 할까?<br>모든 종류의 데이터에 공통된 기본사항을 살펴보자"
   ]
  },
  {
   "cell_type": "markdown",
   "metadata": {},
   "source": [
    "### 신경망을 위한 데이터 전처리\n",
    "데이터 전처리의 목적은 신경망에 주입하기 쉽도록 <strong>백터화 vectorization, 정규화 normalization, 누락된 값다루기, 특성추출</strong> 등이다. "
   ]
  },
  {
   "cell_type": "markdown",
   "metadata": {},
   "source": [
    "<strong>백터화</strong><br/>\n",
    "<ul>\n",
    "    <li>신경망의 모든 입력과 타깃은 <strong>부동소수 데이터로 이루어진 텐서</strong>여야 한다.</li>\n",
    "    <li>사운드, 이미지, 텍스트 등 처리해야 할것이 무엇이든 텐서로 변환</li>\n",
    "    <li>이 단계를 데이터 백터화 data vectorization</li>\n",
    "    <li>예_ Mnist 숫자 이미지를 배열 변환, 뉴스기사의 텍스트를 정수리스트 변환</li>\n",
    "</ul>\n",
    "<strong>정규화</strong><br/>\n",
    "<ul>\n",
    "    <li>숫자 이미지 데이터를 그레이스케일 인코딩하여 0~225사이 정수로 변환되었고 이 데이터를 신경망에 주입하기전에 <strong>float32 타입으로 변경하고 255로 나누어서 최종적으로 0~1사이의 부동 소수 값으로 만듬.</strong></li>\n",
    "    <li>주택가격 예측할 때는 특성의 범위가 제각각이여서 신경망에 주입하기 전, 각 특성을 독립적으로 정규화하여 평균이 0이고 표준편차가 1이 되도록 만듬</li>\n",
    "    <li>일반적으로 큰값이나 균일하지 않는 데이터를 신경망에 주입하는 것은 위험하다. 그레이언트가 커져 네트워크가 수렴을 하는데 방해가 됨</li>\n",
    "    <li>네트워크를 쉽게 학습시키려면 데이터가 다음 특징을 따라야 함\n",
    "     <ul>\n",
    "      <li>작은 값, 일반적으로 0~1 사이</li>\n",
    "      <li>균일한 값, 모든 특성이 대체로 비슷한 범위를 가져야 함</li>\n",
    "     </ul>\n",
    "    </li>\n",
    "     <li>추가적으로 엄격한 정규화 방법\n",
    "      <ul>\n",
    "       <li>평균이 0이 되도록 정규화</li>\n",
    "       <li>각 특성별 표준편차가 1이 되도록 정규화</li>\n",
    "       <li>numpy 배열에서 x는 (샘플,특성) 크기의 2d텐서로 가정, x -=mean(axis=0) y /= x.std(axis=0)</li>\n",
    "      </ul>\n",
    "     </li>\n",
    "</ul>\n",
    "<strong>누락된 값 다루기</strong><br/>\n",
    "<ul>\n",
    "    <li>일반적으로 신경망에서 0이 사전에 정의된 의미있는 값이 아니라면 누락된 값을 0으로 입력해도 괜찮음</li>\n",
    "    <li>테스트 데이터에 누락된 값이 있는 경우, 훈련데이터에서 테스트데이터에서 빠질 것 같은 특성을 제거해야함.</li>\n",
    "</ul>"
   ]
  },
  {
   "cell_type": "markdown",
   "metadata": {},
   "source": [
    "### 특성공학\n",
    "데이터와 머신러닝알고리즘에 관한 지식을 사용하는 단계<br>\n",
    "데이터를 주입하기 전에 하드코딩된 변환을 적용하여 알고리즘을 더 잘 수행하도록 함.<br>\n",
    "다시 말해서, 모델이 수월하게 작업 할 수 있는 어떤 방식으로 데이터가 표현될 필요가 있음.<br>\n",
    "<strong>특성공학의 핵심은 특성을 더 간단한 방식으로 표현하여 문제를 쉽게 만듭니다.</strong> 그래서 일반적으로 문제를 아주 잘 이해하고 있어야 합니다."
   ]
  },
  {
   "cell_type": "markdown",
   "metadata": {},
   "source": [
    "<strong>예시_ 시계이미지를 입력받고 하루시간을 출력하는 모델</strong>"
   ]
  },
  {
   "cell_type": "markdown",
   "metadata": {},
   "source": [
    "<ul>\n",
    "    <li>이미지 원본의 픽셀을 입력하면 어려운 머신러닝 문제가 될 수 있음. 합성곱신경망이 필요해 훈련하기 위해서 컴퓨팅자원도 필요함.</li>\n",
    "    <li>하지만, 더 좋은 입력특성을 만들 수 있음.</li>\n",
    "    <li>\n",
    "     <ul>\n",
    "       <li>시계바늘의 검정 픽셀의 위치를 좌표 값으로 추출</li>\n",
    "       <li>시계바늘의 각도를 특성값으로 추출 </li>\n",
    "     </ul>\n",
    "    </li>\n",
    "    <li>최근 딥러닝은 대부분 특성공학이 필요하지 않으나(딥러닝모델이 스스로 특성을 학습하는 능력은 가용한 훈련데이터가 많을 때 발휘됨)<br> 특성공학을 염두해야 하는 이유는 </li>\n",
    "     <ul>\n",
    "       <li>좋은 특성은 적은 자원을 사용하여 문제를 더 멋지게 풀어낼 수 있음</li>\n",
    "       <li>좋은 특성은 적은 데이터로 문제를 풀 수 있음.샘플의 개수가 적다면 특성의정보가 매우 중요함</li>\n",
    "     </ul>\n",
    "</ul>"
   ]
  }
 ],
 "metadata": {
  "kernelspec": {
   "display_name": "Python 3",
   "language": "python",
   "name": "python3"
  },
  "language_info": {
   "codemirror_mode": {
    "name": "ipython",
    "version": 3
   },
   "file_extension": ".py",
   "mimetype": "text/x-python",
   "name": "python",
   "nbconvert_exporter": "python",
   "pygments_lexer": "ipython3",
   "version": "3.6.2"
  }
 },
 "nbformat": 4,
 "nbformat_minor": 2
}
