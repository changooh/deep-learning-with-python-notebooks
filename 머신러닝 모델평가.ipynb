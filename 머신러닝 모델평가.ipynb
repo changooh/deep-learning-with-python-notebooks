{
 "cells": [
  {
   "cell_type": "markdown",
   "metadata": {},
   "source": [
    "## 머신러닝 모델평가(측정)\n"
   ]
  },
  {
   "cell_type": "markdown",
   "metadata": {},
   "source": [
    "<strong>머신러닝의 목표는 처음 본 데이터에서 잘 작동하는 일반화된 모델을 얻는 것</strong><br>\n",
    "<strong>이 절은 일반화, 즉 머신러닝 모델의 성능을 어떻게 측정하는지 집중함</strong>"
   ]
  },
  {
   "cell_type": "markdown",
   "metadata": {},
   "source": [
    "### 훈련, 검증, 테스트 세트\n",
    "모델평가의 핵심은 가용한 데이터를 항상 훈련, 검증, 테스트 3개의 세트로 나누는 것 <br>\n",
    "훈련세트 -> 훈련, 검증세트 -> 평가, 테스트세트 -> 테스트<br>\n",
    "3가지 분류로 나누는 이유는<br>\n",
    "왜?<br>\n",
    "검증세트에 평가한 결과를 가지고 다시 모델을 조정하는 과정을 여러 번 반복하면, 검증세트에 관한 정보가 모델에 아주 많이 노출시키게 됨.<br>\n",
    "이런 현상을 <strong>정보 누설.</strong> 그래서 의도적으로 잘 수행되는 모델이 만들어 진다"
   ]
  },
  {
   "cell_type": "markdown",
   "metadata": {},
   "source": [
    "참고로, 모델을 개발할 때 항상 <strong>모델의 설정을 튜닝</strong>하는데 튜닝도 어떤 파라미터 공간에서 좋은 설정을 찾는 학습이다.<br>\n",
    "참고) <strong>네트워크의 층수와 유닛 수를 하이퍼라마미터</strong> <> 네트워크의 가중치"
   ]
  },
  {
   "cell_type": "markdown",
   "metadata": {},
   "source": [
    "그래서 완전히 새로운 데이터에 대한 성능을 검증하기 위해서 테스트 세트를 이용한다<br>\n",
    "테스트 세트의 성능에 기초하여 튜닝한 모델의 모든 설정은 일반화를 왜곡 시킬 수 있다.<br>"
   ]
  },
  {
   "cell_type": "markdown",
   "metadata": {},
   "source": [
    "데이터를 훈련, 검증, 테스트 세트로 나눌 때 데이터 적은 경우 사용할 수 있는 고급기법<br>\n",
    "<strong>단순 홀드아웃 검증, k-겹 교차검증, 셔플링을 사용한 반복 k-겹 교차검증</strong>을 살펴본다."
   ]
  },
  {
   "cell_type": "markdown",
   "metadata": {
    "collapsed": true
   },
   "source": [
    "### 홀드아웃 검증 구현 순서\n",
    "<ol>\n",
    "    <li>데이터 셔플링</li>\n",
    "    <li>검증세트 만듬</li>\n",
    "    <li>훈련세트 만듬</li>\n",
    "    <li>훈련세트에서 모델을 훈련하고 검증세트로 평가</li>\n",
    "    <li>모델 튜닝</li>\n",
    "    <li>훈련하고 평가</li>\n",
    "    <li>5번, 6번 과정 반복</li>\n",
    "    <li>하이퍼 파라메터 튜닝이 끝나면, 테스트 데이터를 제외한 전체데이터(훈련+검증세트)사용하여 훈련하고 테스트 데이터로 평가</li>\n",
    "</ol>"
   ]
  },
  {
   "cell_type": "markdown",
   "metadata": {},
   "source": [
    "### k-겹 교차검증 구현 순서\n",
    "3.6-predicting-house-prices - k-겹 교차검증 구현참고"
   ]
  },
  {
   "cell_type": "markdown",
   "metadata": {},
   "source": [
    "### 셔플링을 사용한 k-겹 교차검증 구현 순서\n",
    "비교적 가용데이터가 적고 가능한 정확한 모델을 평가할 때 사용.<br>\n",
    "캐글 경연대회에서 아주 도움이 되었음<br>\n",
    "<strong>k-겹 분할을 하기전에 매번 데이터를 무작위로 섞는다.<br>"
   ]
  },
  {
   "cell_type": "markdown",
   "metadata": {},
   "source": [
    "### 평가방식 선택할 때 \"데이터셋\" 기억해야 될 것\n",
    "<ul>\n",
    "    <li>대표성 있는 데이터<br>\n",
    "    데이터 세트를 나누기전에 <strong>데이터를 무작위로 섞는 것</strong>이 일반적이다.\n",
    "    </li>\n",
    "    <li>시간의 방향<br>\n",
    "    과거로 부터 미래를 예측하는 경우(날씨, 주식시세 등) 데이터를 분할하기 전에 <strong>무작위로 섞으면 안된다.</strong> 미래의 정보가 누설된다.<br>\n",
    "    훈련세트 데이터 보다 검증 및 테스트 데이터가 미래의 것이 되어야 함.\n",
    "    </li>\n",
    "    <li>데이터 중복<br>\n",
    "    훈련세트와 검증세트가 중복되지 않는지 확인해야 한다. \n",
    "    </li>\n",
    "</ul>"
   ]
  },
  {
   "cell_type": "code",
   "execution_count": null,
   "metadata": {
    "collapsed": true
   },
   "outputs": [],
   "source": []
  }
 ],
 "metadata": {
  "kernelspec": {
   "display_name": "Python 3",
   "language": "python",
   "name": "python3"
  },
  "language_info": {
   "codemirror_mode": {
    "name": "ipython",
    "version": 3
   },
   "file_extension": ".py",
   "mimetype": "text/x-python",
   "name": "python",
   "nbconvert_exporter": "python",
   "pygments_lexer": "ipython3",
   "version": "3.6.2"
  }
 },
 "nbformat": 4,
 "nbformat_minor": 2
}
